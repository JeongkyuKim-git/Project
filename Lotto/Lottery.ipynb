{
 "cells": [
  {
   "cell_type": "markdown",
   "metadata": {},
   "source": [
    "# 로또 프로그램\n",
    "\n",
    "\n",
    "### 당첨 번호 뽑기"
   ]
  },
  {
   "cell_type": "code",
   "execution_count": 32,
   "metadata": {},
   "outputs": [
    {
     "name": "stdout",
     "output_type": "stream",
     "text": [
      "[4, 7, 10, 15, 18, 37, 45]\n"
     ]
    }
   ],
   "source": [
    "import random\n",
    "\n",
    "def generate_numbers(n):\n",
    "        numbers = []\n",
    "\n",
    "        while len(numbers) < n:\n",
    "            num = random.randint(1,45)\n",
    "            if num not in numbers:\n",
    "                numbers.append(num)\n",
    "    \n",
    "        return numbers\n",
    "    \n",
    "#print(generate_numbers(6))\n",
    "\n",
    "def draw_winning_numbers(n):\n",
    "    bounus_number = generate_numbers(7)\n",
    "    \n",
    "    return sorted(bounus_number[:6]+ bounus_number[6:])\n",
    "\n",
    "print(draw_winning_numbers(7))"
   ]
  },
  {
   "cell_type": "markdown",
   "metadata": {},
   "source": [
    "### 겹치는 번호 개수"
   ]
  },
  {
   "cell_type": "code",
   "execution_count": 1,
   "metadata": {},
   "outputs": [
    {
     "name": "stdout",
     "output_type": "stream",
     "text": [
      "3\n",
      "1\n"
     ]
    }
   ],
   "source": [
    "def count_matching_numbers(list_1, list_2):\n",
    "    same_numbers = list(set(list_1).intersection(list_2))\n",
    "    return len(same_numbers)\n",
    "\n",
    "# 테스트\n",
    "print(count_matching_numbers([2, 7, 11, 14, 25, 40], [2, 11, 13, 14, 30, 35]))\n",
    "print(count_matching_numbers([2, 7, 11, 14, 25, 40], [14]))"
   ]
  },
  {
   "cell_type": "markdown",
   "metadata": {},
   "source": [
    "### 전체 합병 버전"
   ]
  },
  {
   "cell_type": "code",
   "execution_count": 2,
   "metadata": {},
   "outputs": [],
   "source": [
    "from random import randint\n",
    "\n",
    "\n",
    "def generate_numbers(n):\n",
    "    numbers = []\n",
    "\n",
    "    while len(numbers) < n:\n",
    "        new_number = randint(1, 45)\n",
    "        if new_number not in numbers:\n",
    "            numbers.append(new_number)\n",
    "\n",
    "    return numbers\n",
    "\n",
    "\n",
    "def draw_winning_numbers():\n",
    "    winning_numbers = generate_numbers(7)\n",
    "    return sorted(winning_numbers[:6]) + winning_numbers[6:]\n",
    "\n",
    "\n",
    "def count_matching_numbers(numbers, winning_numbers):\n",
    "    count = 0\n",
    "\n",
    "    for num in numbers:\n",
    "        if num in winning_numbers:\n",
    "            count = count + 1\n",
    "\n",
    "    return count\n",
    "\n",
    "\n",
    "def check(numbers, winning_numbers):\n",
    "    count = count_matching_numbers(numbers, winning_numbers[:6])\n",
    "    bonus_count = count_matching_numbers(numbers, winning_numbers[6:])\n",
    "\n",
    "    if count == 6:\n",
    "        return 1000000000\n",
    "    elif count == 5 and bonus_count == 1:\n",
    "        return 50000000\n",
    "    elif count == 5:\n",
    "        return 1000000\n",
    "    elif count == 4:\n",
    "        return 50000\n",
    "    elif count == 3:\n",
    "        return 5000\n",
    "    else:\n",
    "        return 0"
   ]
  }
 ],
 "metadata": {
  "kernelspec": {
   "display_name": "Python 3",
   "language": "python",
   "name": "python3"
  },
  "language_info": {
   "codemirror_mode": {
    "name": "ipython",
    "version": 3
   },
   "file_extension": ".py",
   "mimetype": "text/x-python",
   "name": "python",
   "nbconvert_exporter": "python",
   "pygments_lexer": "ipython3",
   "version": "3.8.5"
  }
 },
 "nbformat": 4,
 "nbformat_minor": 4
}
